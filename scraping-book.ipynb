{
 "cells": [
  {
   "cell_type": "code",
   "execution_count": 2,
   "id": "b6dca3f5-aef9-4e65-bd45-733a8d9fb237",
   "metadata": {},
   "outputs": [
    {
     "name": "stdout",
     "output_type": "stream",
     "text": [
      "Collecting jovian\n",
      "  Downloading jovian-0.2.47-py2.py3-none-any.whl.metadata (4.1 kB)\n",
      "Requirement already satisfied: requests in c:\\users\\user\\miniconda3\\lib\\site-packages (from jovian) (2.31.0)\n",
      "Collecting uuid (from jovian)\n",
      "  Downloading uuid-1.30.tar.gz (5.8 kB)\n",
      "  Preparing metadata (setup.py): started\n",
      "  Preparing metadata (setup.py): finished with status 'done'\n",
      "Requirement already satisfied: pyyaml in c:\\users\\user\\miniconda3\\lib\\site-packages (from jovian) (6.0.1)\n",
      "Collecting click (from jovian)\n",
      "  Downloading click-8.1.7-py3-none-any.whl.metadata (3.0 kB)\n",
      "Requirement already satisfied: colorama in c:\\users\\user\\miniconda3\\lib\\site-packages (from click->jovian) (0.4.6)\n",
      "Requirement already satisfied: charset-normalizer<4,>=2 in c:\\users\\user\\miniconda3\\lib\\site-packages (from requests->jovian) (2.0.4)\n",
      "Requirement already satisfied: idna<4,>=2.5 in c:\\users\\user\\miniconda3\\lib\\site-packages (from requests->jovian) (3.4)\n",
      "Requirement already satisfied: urllib3<3,>=1.21.1 in c:\\users\\user\\miniconda3\\lib\\site-packages (from requests->jovian) (2.1.0)\n",
      "Requirement already satisfied: certifi>=2017.4.17 in c:\\users\\user\\miniconda3\\lib\\site-packages (from requests->jovian) (2024.2.2)\n",
      "Downloading jovian-0.2.47-py2.py3-none-any.whl (68 kB)\n",
      "   ---------------------------------------- 0.0/68.6 kB ? eta -:--:--\n",
      "   ---------------------------------------- 0.0/68.6 kB ? eta -:--:--\n",
      "   ----- ---------------------------------- 10.2/68.6 kB ? eta -:--:--\n",
      "   ----------------- ---------------------- 30.7/68.6 kB 660.6 kB/s eta 0:00:01\n",
      "   ----------------------- ---------------- 41.0/68.6 kB 495.5 kB/s eta 0:00:01\n",
      "   ---------------------------------------- 68.6/68.6 kB 535.6 kB/s eta 0:00:00\n",
      "Downloading click-8.1.7-py3-none-any.whl (97 kB)\n",
      "   ---------------------------------------- 0.0/97.9 kB ? eta -:--:--\n",
      "   ---- ----------------------------------- 10.2/97.9 kB ? eta -:--:--\n",
      "   ---------------- ----------------------- 41.0/97.9 kB 495.5 kB/s eta 0:00:01\n",
      "   ---------------------------------------- 97.9/97.9 kB 943.0 kB/s eta 0:00:00\n",
      "Building wheels for collected packages: uuid\n",
      "  Building wheel for uuid (setup.py): started\n",
      "  Building wheel for uuid (setup.py): finished with status 'done'\n",
      "  Created wheel for uuid: filename=uuid-1.30-py3-none-any.whl size=6483 sha256=16785cab6a328b62d6aec664f85443bbbb35349b56a2df52b05d48f38b18750e\n",
      "  Stored in directory: c:\\users\\user\\appdata\\local\\pip\\cache\\wheels\\35\\34\\36\\b9f3546da107cf37bab75cdb3ce1ebd8d744648985d0111ca1\n",
      "Successfully built uuid\n",
      "Installing collected packages: uuid, click, jovian\n",
      "Successfully installed click-8.1.7 jovian-0.2.47 uuid-1.30\n",
      "Note: you may need to restart the kernel to use updated packages.\n"
     ]
    }
   ],
   "source": [
    "pip install jovian"
   ]
  },
  {
   "cell_type": "code",
   "execution_count": 5,
   "id": "903a7cd2-0c05-4743-96db-f08e4b0971b8",
   "metadata": {},
   "outputs": [
    {
     "data": {
      "application/javascript": [
       "if (window.IPython && IPython.notebook.kernel) IPython.notebook.kernel.execute('jovian.utils.jupyter.get_notebook_name_saved = lambda: \"' + IPython.notebook.notebook_name + '\"')"
      ],
      "text/plain": [
       "<IPython.core.display.Javascript object>"
      ]
     },
     "metadata": {},
     "output_type": "display_data"
    }
   ],
   "source": [
    "import jovian\n",
    "import requests\n",
    "from bs4 import BeautifulSoup\n",
    "import csv\n",
    "import pandas as pd\n",
    "import os"
   ]
  },
  {
   "cell_type": "code",
   "execution_count": 4,
   "id": "1a979ef8-44a6-43f6-9a4a-337541a3df22",
   "metadata": {},
   "outputs": [],
   "source": [
    "URL = 'https://books.toscrape.com/'\n",
    "response = requests.get(URL)\n",
    "\n",
    "page_contents = response.text\n",
    "\n",
    "#Creating a file and loading the page contents in it.\n",
    "with open('Bookswebpage.html','w') as f:\n",
    "    f.write(page_contents)"
   ]
  },
  {
   "cell_type": "code",
   "execution_count": 5,
   "id": "8c17c195-8334-463d-9e92-1f43fbc6cc5b",
   "metadata": {},
   "outputs": [],
   "source": [
    "from bs4 import BeautifulSoup\n",
    "doc = BeautifulSoup(page_contents,'html.parser')"
   ]
  },
  {
   "cell_type": "code",
   "execution_count": 6,
   "id": "df7fd0bb-3126-4ff5-b677-16c71386211e",
   "metadata": {},
   "outputs": [],
   "source": [
    "def get_book_titles(doc):\n",
    "    Book_title_tags = doc.find_all('h3')\n",
    "    Book_titles = []\n",
    "    for tags in Book_title_tags:\n",
    "        Book_titles.append(tags.text)\n",
    "    return Book_titles"
   ]
  },
  {
   "cell_type": "code",
   "execution_count": 7,
   "id": "9cc7a00b-4863-48f7-9aba-69e2a78a703a",
   "metadata": {},
   "outputs": [
    {
     "data": {
      "text/plain": [
       "['A Light in the ...',\n",
       " 'Tipping the Velvet',\n",
       " 'Soumission',\n",
       " 'Sharp Objects',\n",
       " 'Sapiens: A Brief History ...',\n",
       " 'The Requiem Red',\n",
       " 'The Dirty Little Secrets ...',\n",
       " 'The Coming Woman: A ...',\n",
       " 'The Boys in the ...',\n",
       " 'The Black Maria',\n",
       " 'Starving Hearts (Triangular Trade ...',\n",
       " \"Shakespeare's Sonnets\",\n",
       " 'Set Me Free',\n",
       " \"Scott Pilgrim's Precious Little ...\",\n",
       " 'Rip it Up and ...',\n",
       " 'Our Band Could Be ...',\n",
       " 'Olio',\n",
       " 'Mesaerion: The Best Science ...',\n",
       " 'Libertarianism for Beginners',\n",
       " \"It's Only the Himalayas\"]"
      ]
     },
     "execution_count": 7,
     "metadata": {},
     "output_type": "execute_result"
    }
   ],
   "source": [
    "get_book_titles(doc)"
   ]
  },
  {
   "cell_type": "code",
   "execution_count": 8,
   "id": "f098cb01-996f-4786-8092-4f06b1db4cf9",
   "metadata": {},
   "outputs": [],
   "source": [
    "def get_book_price(doc):\n",
    "    Book_price_tags = doc.find_all('p', class_ = 'price_color')\n",
    "    Book_price = []\n",
    "    for tags in Book_price_tags:\n",
    "        Book_price.append(tags.text.replace('Â',''))\n",
    "    return Book_price"
   ]
  },
  {
   "cell_type": "code",
   "execution_count": 9,
   "id": "e29910a4-dfa1-4e37-985f-1d4722f1d016",
   "metadata": {},
   "outputs": [
    {
     "data": {
      "text/plain": [
       "['£51.77',\n",
       " '£53.74',\n",
       " '£50.10',\n",
       " '£47.82',\n",
       " '£54.23',\n",
       " '£22.65',\n",
       " '£33.34',\n",
       " '£17.93',\n",
       " '£22.60',\n",
       " '£52.15',\n",
       " '£13.99',\n",
       " '£20.66',\n",
       " '£17.46',\n",
       " '£52.29',\n",
       " '£35.02',\n",
       " '£57.25',\n",
       " '£23.88',\n",
       " '£37.59',\n",
       " '£51.33',\n",
       " '£45.17']"
      ]
     },
     "execution_count": 9,
     "metadata": {},
     "output_type": "execute_result"
    }
   ],
   "source": [
    "get_book_price(doc)"
   ]
  },
  {
   "cell_type": "code",
   "execution_count": 10,
   "id": "275cd2f9-e30e-4924-b5cb-2cb60acde57f",
   "metadata": {},
   "outputs": [],
   "source": [
    "def get_stock_availability(doc):\n",
    "    Book_stock_tags = doc.find_all('p', class_ = 'instock availability')\n",
    "    Book_stock = []\n",
    "    for tags in Book_stock_tags:\n",
    "        Book_stock.append(tags.text.strip())\n",
    "    return Book_stock"
   ]
  },
  {
   "cell_type": "code",
   "execution_count": 6,
   "id": "17726c6e-c598-4240-913a-df3e8c295301",
   "metadata": {},
   "outputs": [],
   "source": [
    "url = 'https://books.toscrape.com/'\n",
    "response = requests.get(url)\n",
    "if response.status_code == 200:\n",
    "    soup = BeautifulSoup(response.text, 'html.parser')\n",
    "    Book_title_tags = soup.find_all('h3')\n",
    "else:\n",
    "    print('Gagal mengambil halaman web')"
   ]
  },
  {
   "cell_type": "code",
   "execution_count": 7,
   "id": "a0094f2a-155d-4a0f-925a-185c33ac5344",
   "metadata": {},
   "outputs": [],
   "source": [
    "def get_book_url(Book_title_tags):\n",
    "    Book_url = []\n",
    "    for article in Book_title_tags:\n",
    "        for link in article.find_all('a', href = True):\n",
    "            url = link['href']\n",
    "            links = 'https://books.toscrape.com/' + url\n",
    "            if links not in Book_url:\n",
    "                Book_url.append(links)\n",
    "    return Book_url"
   ]
  },
  {
   "cell_type": "code",
   "execution_count": 13,
   "id": "013b5dfd-476f-4533-b50e-4d0cf0b77652",
   "metadata": {},
   "outputs": [
    {
     "data": {
      "text/plain": [
       "['In stock',\n",
       " 'In stock',\n",
       " 'In stock',\n",
       " 'In stock',\n",
       " 'In stock',\n",
       " 'In stock',\n",
       " 'In stock',\n",
       " 'In stock',\n",
       " 'In stock',\n",
       " 'In stock',\n",
       " 'In stock',\n",
       " 'In stock',\n",
       " 'In stock',\n",
       " 'In stock',\n",
       " 'In stock',\n",
       " 'In stock',\n",
       " 'In stock',\n",
       " 'In stock',\n",
       " 'In stock',\n",
       " 'In stock']"
      ]
     },
     "execution_count": 13,
     "metadata": {},
     "output_type": "execute_result"
    }
   ],
   "source": [
    "get_stock_availability(doc)"
   ]
  },
  {
   "cell_type": "code",
   "execution_count": 8,
   "id": "4a94d96f-8557-49c5-9d2b-2a9b78d5e8dc",
   "metadata": {},
   "outputs": [
    {
     "data": {
      "text/plain": [
       "['https://books.toscrape.com/catalogue/a-light-in-the-attic_1000/index.html',\n",
       " 'https://books.toscrape.com/catalogue/tipping-the-velvet_999/index.html',\n",
       " 'https://books.toscrape.com/catalogue/soumission_998/index.html',\n",
       " 'https://books.toscrape.com/catalogue/sharp-objects_997/index.html',\n",
       " 'https://books.toscrape.com/catalogue/sapiens-a-brief-history-of-humankind_996/index.html',\n",
       " 'https://books.toscrape.com/catalogue/the-requiem-red_995/index.html',\n",
       " 'https://books.toscrape.com/catalogue/the-dirty-little-secrets-of-getting-your-dream-job_994/index.html',\n",
       " 'https://books.toscrape.com/catalogue/the-coming-woman-a-novel-based-on-the-life-of-the-infamous-feminist-victoria-woodhull_993/index.html',\n",
       " 'https://books.toscrape.com/catalogue/the-boys-in-the-boat-nine-americans-and-their-epic-quest-for-gold-at-the-1936-berlin-olympics_992/index.html',\n",
       " 'https://books.toscrape.com/catalogue/the-black-maria_991/index.html',\n",
       " 'https://books.toscrape.com/catalogue/starving-hearts-triangular-trade-trilogy-1_990/index.html',\n",
       " 'https://books.toscrape.com/catalogue/shakespeares-sonnets_989/index.html',\n",
       " 'https://books.toscrape.com/catalogue/set-me-free_988/index.html',\n",
       " 'https://books.toscrape.com/catalogue/scott-pilgrims-precious-little-life-scott-pilgrim-1_987/index.html',\n",
       " 'https://books.toscrape.com/catalogue/rip-it-up-and-start-again_986/index.html',\n",
       " 'https://books.toscrape.com/catalogue/our-band-could-be-your-life-scenes-from-the-american-indie-underground-1981-1991_985/index.html',\n",
       " 'https://books.toscrape.com/catalogue/olio_984/index.html',\n",
       " 'https://books.toscrape.com/catalogue/mesaerion-the-best-science-fiction-stories-1800-1849_983/index.html',\n",
       " 'https://books.toscrape.com/catalogue/libertarianism-for-beginners_982/index.html',\n",
       " 'https://books.toscrape.com/catalogue/its-only-the-himalayas_981/index.html']"
      ]
     },
     "execution_count": 8,
     "metadata": {},
     "output_type": "execute_result"
    }
   ],
   "source": [
    "get_book_url(Book_title_tags)"
   ]
  },
  {
   "cell_type": "code",
   "execution_count": 15,
   "id": "ba10eed7-4299-4878-9914-adf734922da9",
   "metadata": {},
   "outputs": [],
   "source": [
    "def get_doc(url):\n",
    "    response = requests.get(url)\n",
    "    doc = BeautifulSoup(response.text,'html.parser')\n",
    "    if response.status_code != 200:\n",
    "        raise Exception('Failed to load page {}'.format(response))\n",
    "    return doc"
   ]
  },
  {
   "cell_type": "code",
   "execution_count": 16,
   "id": "7cea901f-3c90-450c-8950-b64c24ac9037",
   "metadata": {},
   "outputs": [],
   "source": [
    "def scrape_multiple_pages(n):\n",
    "    URL = 'https://books.toscrape.com/catalogue/page-'\n",
    "    titles,prices,stocks_availability,urls = [],[],[],[]\n",
    "    \n",
    "    for page in range(1,n+1):\n",
    "        doc = get_doc(URL + str(page)+ '.html')\n",
    "        titles.extend(get_book_titles(doc))\n",
    "        prices.extend(get_book_price(doc))\n",
    "        stocks_availability.extend(get_stock_availability(doc))\n",
    "        urls.extend(get_book_url(doc.find_all('h3')))\n",
    "        \n",
    "    book_dict1 = {\n",
    "                'TITLE':titles,\n",
    "                'PRICE':prices,\n",
    "                'STOCK AVAILABILTY':stocks_availability,\n",
    "                'URL':urls}\n",
    "    return pd.DataFrame(book_dict1)"
   ]
  },
  {
   "cell_type": "code",
   "execution_count": 17,
   "id": "cf27c1e7-f0a2-4417-a2ec-bbb72248f0c0",
   "metadata": {},
   "outputs": [
    {
     "data": {
      "text/html": [
       "<div>\n",
       "<style scoped>\n",
       "    .dataframe tbody tr th:only-of-type {\n",
       "        vertical-align: middle;\n",
       "    }\n",
       "\n",
       "    .dataframe tbody tr th {\n",
       "        vertical-align: top;\n",
       "    }\n",
       "\n",
       "    .dataframe thead th {\n",
       "        text-align: right;\n",
       "    }\n",
       "</style>\n",
       "<table border=\"1\" class=\"dataframe\">\n",
       "  <thead>\n",
       "    <tr style=\"text-align: right;\">\n",
       "      <th></th>\n",
       "      <th>TITLE</th>\n",
       "      <th>PRICE</th>\n",
       "      <th>STOCK AVAILABILTY</th>\n",
       "      <th>URL</th>\n",
       "    </tr>\n",
       "  </thead>\n",
       "  <tbody>\n",
       "    <tr>\n",
       "      <th>0</th>\n",
       "      <td>A Light in the ...</td>\n",
       "      <td>£51.77</td>\n",
       "      <td>In stock</td>\n",
       "      <td>https://books.toscrape.com/a-light-in-the-atti...</td>\n",
       "    </tr>\n",
       "    <tr>\n",
       "      <th>1</th>\n",
       "      <td>Tipping the Velvet</td>\n",
       "      <td>£53.74</td>\n",
       "      <td>In stock</td>\n",
       "      <td>https://books.toscrape.com/tipping-the-velvet_...</td>\n",
       "    </tr>\n",
       "    <tr>\n",
       "      <th>2</th>\n",
       "      <td>Soumission</td>\n",
       "      <td>£50.10</td>\n",
       "      <td>In stock</td>\n",
       "      <td>https://books.toscrape.com/soumission_998/inde...</td>\n",
       "    </tr>\n",
       "    <tr>\n",
       "      <th>3</th>\n",
       "      <td>Sharp Objects</td>\n",
       "      <td>£47.82</td>\n",
       "      <td>In stock</td>\n",
       "      <td>https://books.toscrape.com/sharp-objects_997/i...</td>\n",
       "    </tr>\n",
       "    <tr>\n",
       "      <th>4</th>\n",
       "      <td>Sapiens: A Brief History ...</td>\n",
       "      <td>£54.23</td>\n",
       "      <td>In stock</td>\n",
       "      <td>https://books.toscrape.com/sapiens-a-brief-his...</td>\n",
       "    </tr>\n",
       "    <tr>\n",
       "      <th>...</th>\n",
       "      <td>...</td>\n",
       "      <td>...</td>\n",
       "      <td>...</td>\n",
       "      <td>...</td>\n",
       "    </tr>\n",
       "    <tr>\n",
       "      <th>95</th>\n",
       "      <td>Lumberjanes Vol. 3: A ...</td>\n",
       "      <td>£19.92</td>\n",
       "      <td>In stock</td>\n",
       "      <td>https://books.toscrape.com/lumberjanes-vol-3-a...</td>\n",
       "    </tr>\n",
       "    <tr>\n",
       "      <th>96</th>\n",
       "      <td>Layered: Baking, Building, and ...</td>\n",
       "      <td>£40.11</td>\n",
       "      <td>In stock</td>\n",
       "      <td>https://books.toscrape.com/layered-baking-buil...</td>\n",
       "    </tr>\n",
       "    <tr>\n",
       "      <th>97</th>\n",
       "      <td>Judo: Seven Steps to ...</td>\n",
       "      <td>£53.90</td>\n",
       "      <td>In stock</td>\n",
       "      <td>https://books.toscrape.com/judo-seven-steps-to...</td>\n",
       "    </tr>\n",
       "    <tr>\n",
       "      <th>98</th>\n",
       "      <td>Join</td>\n",
       "      <td>£35.67</td>\n",
       "      <td>In stock</td>\n",
       "      <td>https://books.toscrape.com/join_902/index.html</td>\n",
       "    </tr>\n",
       "    <tr>\n",
       "      <th>99</th>\n",
       "      <td>In the Country We ...</td>\n",
       "      <td>£22.00</td>\n",
       "      <td>In stock</td>\n",
       "      <td>https://books.toscrape.com/in-the-country-we-l...</td>\n",
       "    </tr>\n",
       "  </tbody>\n",
       "</table>\n",
       "<p>100 rows × 4 columns</p>\n",
       "</div>"
      ],
      "text/plain": [
       "                                 TITLE   PRICE STOCK AVAILABILTY  \\\n",
       "0                   A Light in the ...  £51.77          In stock   \n",
       "1                   Tipping the Velvet  £53.74          In stock   \n",
       "2                           Soumission  £50.10          In stock   \n",
       "3                        Sharp Objects  £47.82          In stock   \n",
       "4         Sapiens: A Brief History ...  £54.23          In stock   \n",
       "..                                 ...     ...               ...   \n",
       "95           Lumberjanes Vol. 3: A ...  £19.92          In stock   \n",
       "96  Layered: Baking, Building, and ...  £40.11          In stock   \n",
       "97            Judo: Seven Steps to ...  £53.90          In stock   \n",
       "98                                Join  £35.67          In stock   \n",
       "99               In the Country We ...  £22.00          In stock   \n",
       "\n",
       "                                                  URL  \n",
       "0   https://books.toscrape.com/a-light-in-the-atti...  \n",
       "1   https://books.toscrape.com/tipping-the-velvet_...  \n",
       "2   https://books.toscrape.com/soumission_998/inde...  \n",
       "3   https://books.toscrape.com/sharp-objects_997/i...  \n",
       "4   https://books.toscrape.com/sapiens-a-brief-his...  \n",
       "..                                                ...  \n",
       "95  https://books.toscrape.com/lumberjanes-vol-3-a...  \n",
       "96  https://books.toscrape.com/layered-baking-buil...  \n",
       "97  https://books.toscrape.com/judo-seven-steps-to...  \n",
       "98     https://books.toscrape.com/join_902/index.html  \n",
       "99  https://books.toscrape.com/in-the-country-we-l...  \n",
       "\n",
       "[100 rows x 4 columns]"
      ]
     },
     "execution_count": 17,
     "metadata": {},
     "output_type": "execute_result"
    }
   ],
   "source": [
    "scrape_multiple_pages(5)"
   ]
  },
  {
   "cell_type": "code",
   "execution_count": 18,
   "id": "006bb25b-73ee-428f-a005-01678be16601",
   "metadata": {},
   "outputs": [],
   "source": [
    "scrape_multiple_pages(5).to_csv('SCB.csv',index = None)"
   ]
  },
  {
   "cell_type": "code",
   "execution_count": null,
   "id": "f80a6d5c-a95b-4a2c-a16d-ac399913c143",
   "metadata": {},
   "outputs": [],
   "source": []
  }
 ],
 "metadata": {
  "kernelspec": {
   "display_name": "Python 3 (ipykernel)",
   "language": "python",
   "name": "python3"
  },
  "language_info": {
   "codemirror_mode": {
    "name": "ipython",
    "version": 3
   },
   "file_extension": ".py",
   "mimetype": "text/x-python",
   "name": "python",
   "nbconvert_exporter": "python",
   "pygments_lexer": "ipython3",
   "version": "3.12.2"
  }
 },
 "nbformat": 4,
 "nbformat_minor": 5
}
